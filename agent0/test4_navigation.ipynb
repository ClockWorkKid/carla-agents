{
 "cells": [
  {
   "cell_type": "markdown",
   "id": "6d60cba9",
   "metadata": {},
   "source": [
    "# Initialize Simulation"
   ]
  },
  {
   "cell_type": "code",
   "execution_count": 1,
   "id": "27a63241",
   "metadata": {},
   "outputs": [],
   "source": [
    "from myAgent import CarlaAgent\n",
    "import random\n",
    "import matplotlib.pyplot as plt\n",
    "import numpy as np\n",
    "import time\n",
    "import glob\n",
    "import os\n",
    "import sys\n",
    "import cv2\n",
    "\n",
    "try:\n",
    "    sys.path.append(glob.glob('carla-*%d.%d-%s.egg' % (\n",
    "        sys.version_info.major,\n",
    "        sys.version_info.minor,\n",
    "        'win-amd64' if os.name == 'nt' else 'linux-x86_64'))[0])\n",
    "except IndexError:\n",
    "    pass\n",
    "\n",
    "import carla"
   ]
  },
  {
   "cell_type": "code",
   "execution_count": 2,
   "id": "56f6c04d",
   "metadata": {},
   "outputs": [
    {
     "name": "stdout",
     "output_type": "stream",
     "text": [
      "Establishing Connection to Server\n"
     ]
    }
   ],
   "source": [
    "myAgent = CarlaAgent()\n",
    "# myAgent.world = myAgent.client.load_world(\"Town04\")"
   ]
  },
  {
   "cell_type": "code",
   "execution_count": 3,
   "id": "4ae408c5",
   "metadata": {
    "scrolled": true
   },
   "outputs": [
    {
     "name": "stdout",
     "output_type": "stream",
     "text": [
      "created vehicle.tesla.model3\n",
      "created sensor.camera.rgb\n",
      "created sensor.camera.semantic_segmentation\n",
      "created sensor.other.gnss\n",
      "deployed\n"
     ]
    }
   ],
   "source": [
    "spawn_location = carla.Transform(carla.Location(x=68.331055, y=13.360283, z=11.057558), carla.Rotation(pitch=0.178746, yaw=-179.767502, roll=-0.007507))\n",
    "checkpoint1 = carla.Transform(carla.Location(x=-505.901550, y=118.165741, z=0.001829), carla.Rotation(pitch=-0.008941, yaw=90.287453, roll=0.000932))\n",
    "checkpoint2 = carla.Transform(carla.Location(x=76.616714, y=-347.043304, z=0.001787), carla.Rotation(pitch=-0.006591, yaw=-36.155972, roll=0.002479))\n",
    "checkpoint3 = carla.Transform(carla.Location(x=330.723480, y=16.509901, z=0.644050), carla.Rotation(pitch=1.374207, yaw=-177.314911, roll=0.044957))\n",
    "checkpoint4 = carla.Transform(carla.Location(x=-247.346359, y=12.585312, z=2.412686), carla.Rotation(pitch=-2.391632, yaw=179.684631, roll=0.019005))\n",
    "\n",
    "\n",
    "myAgent.spawn_vehicle(transform=spawn_location)\n",
    "myAgent.find_vehicle()\n",
    "\n",
    "myAgent.attach_camera()\n",
    "myAgent.attach_cameraS()\n",
    "myAgent.attach_GNSS()\n",
    "\n",
    "myAgent.attach_controller()\n",
    "\n",
    "print(\"deployed\")"
   ]
  },
  {
   "cell_type": "code",
   "execution_count": 25,
   "id": "d16bb598",
   "metadata": {},
   "outputs": [
    {
     "name": "stdout",
     "output_type": "stream",
     "text": [
      "destroying actors\n",
      "terminated\n"
     ]
    }
   ],
   "source": [
    "myAgent.terminate()"
   ]
  },
  {
   "cell_type": "markdown",
   "id": "fd9a20c7",
   "metadata": {},
   "source": [
    "# Navigation"
   ]
  },
  {
   "cell_type": "markdown",
   "id": "a4e85f2a",
   "metadata": {},
   "source": [
    "### GNSS Geolocation data on Autopilot"
   ]
  },
  {
   "cell_type": "code",
   "execution_count": 33,
   "id": "5b58b3ea",
   "metadata": {},
   "outputs": [
    {
     "name": "stdout",
     "output_type": "stream",
     "text": [
      "Demo navigation test\n",
      "done\n"
     ]
    }
   ],
   "source": [
    "sim_time = 30\n",
    "\n",
    "x = [myAgent.longitude]\n",
    "y = [myAgent.latitude]\n",
    "z = [myAgent.altitude]\n",
    "\n",
    "print(\"Demo navigation test\")\n",
    "\n",
    "myAgent.control.throttle = 0\n",
    "myAgent.control.brake = 0\n",
    "myAgent.control.steer = 0\n",
    "myAgent.control.hand_brake = 0\n",
    "myAgent.control.reverse = 0\n",
    "\n",
    "myAgent.vehicle.apply_control(myAgent.control)\n",
    "\n",
    "myAgent.vehicle.set_autopilot(True)\n",
    "\n",
    "t = time.time()\n",
    "while(time.time()-t < sim_time):\n",
    "    \n",
    "    x.append(myAgent.longitude)\n",
    "    y.append(myAgent.latitude)\n",
    "    z.append(myAgent.altitude)\n",
    "\n",
    "myAgent.vehicle.set_autopilot(False)\n",
    "\n",
    "myAgent.control.throttle = 0\n",
    "myAgent.control.brake = 0\n",
    "myAgent.control.steer = 0\n",
    "myAgent.control.hand_brake = 1\n",
    "myAgent.control.reverse = 0\n",
    "myAgent.vehicle.apply_control(myAgent.control)\n",
    "\n",
    "myAgent.find_vehicle()\n",
    "\n",
    "x = np.array(x)\n",
    "y = np.array(y)\n",
    "\n",
    "# plt.plot(x, y)\n",
    "# plt.show()\n",
    "\n",
    "print(\"done\")"
   ]
  },
  {
   "cell_type": "markdown",
   "id": "b75ecb1a",
   "metadata": {},
   "source": [
    "### Random Geolocation"
   ]
  },
  {
   "cell_type": "code",
   "execution_count": 12,
   "id": "8d575bd0",
   "metadata": {},
   "outputs": [
    {
     "name": "stdout",
     "output_type": "stream",
     "text": [
      "GeoLocation(latitude=0.001622, longitude=0.001178, altitude=0.400000)\n"
     ]
    },
    {
     "data": {
      "image/png": "[encoded data removed]",
      "text/plain": [
       "<Figure size 432x288 with 1 Axes>"
      ]
     },
     "metadata": {
      "needs_background": "light"
     },
     "output_type": "display_data"
    },
    {
     "name": "stdout",
     "output_type": "stream",
     "text": [
      "Transform(Location(x=-247.346359, y=12.585312, z=2.412686), Rotation(pitch=-2.391632, yaw=179.684631, roll=0.019005))\n"
     ]
    }
   ],
   "source": [
    "transform = random.choice(myAgent.map.get_spawn_points())\n",
    "goal = myAgent.map.transform_to_geolocation(transform.location)\n",
    "\n",
    "print(goal)\n",
    "\n",
    "plt.plot(myAgent.longitude, myAgent.latitude, 'o')\n",
    "plt.plot(goal.longitude, goal.latitude, '*')\n",
    "plt.show()\n",
    "\n",
    "print(myAgent.vehicle.get_transform())"
   ]
  },
  {
   "cell_type": "code",
   "execution_count": 4,
   "id": "fe22e3e2",
   "metadata": {},
   "outputs": [
    {
     "name": "stdout",
     "output_type": "stream",
     "text": [
      "destroying actors\n",
      "terminated\n"
     ]
    }
   ],
   "source": [
    "myAgent.terminate()"
   ]
  },
  {
   "cell_type": "markdown",
   "id": "4bf5f0ae",
   "metadata": {},
   "source": [
    "# Navigation with GNSS waypoint and GT Segmentation"
   ]
  },
  {
   "cell_type": "code",
   "execution_count": 4,
   "id": "f4238408",
   "metadata": {},
   "outputs": [],
   "source": [
    "def imshow_components(labels):\n",
    "    # Map component labels to hue val\n",
    "    label_hue = np.uint8(179*labels/np.max(labels))\n",
    "    blank_ch = 255*np.ones_like(label_hue)\n",
    "    labeled_img = cv2.merge([label_hue, blank_ch, blank_ch])\n",
    "\n",
    "    # cvt to BGR for display\n",
    "    labeled_img = cv2.cvtColor(labeled_img, cv2.COLOR_HSV2BGR)\n",
    "\n",
    "    # set bg label to black\n",
    "    labeled_img[label_hue==0] = 0\n",
    "\n",
    "    return labeled_img\n",
    "\n",
    "def undesired_objects (image):\n",
    "    image = image.astype('uint8')\n",
    "    nb_components, output, stats, centroids = cv2.connectedComponentsWithStats(image, connectivity=4)\n",
    "    sizes = stats[:, -1]\n",
    "\n",
    "    max_label = 1\n",
    "    max_size = sizes[1]\n",
    "    for i in range(2, nb_components):\n",
    "        if sizes[i] > max_size:\n",
    "            max_label = i\n",
    "            max_size = sizes[i]\n",
    "\n",
    "    img2 = np.zeros(output.shape)\n",
    "    img2[output == max_label] = 255\n",
    "\n",
    "    return img2\n",
    "\n",
    "def get_centroid(image):\n",
    "    \n",
    "    moment = cv2.moments(image)\n",
    "\n",
    "    # calculate x,y coordinate of center\n",
    "    try:\n",
    "        cX = int(moment[\"m10\"] / moment[\"m00\"])\n",
    "        cY = int(moment[\"m01\"] / moment[\"m00\"])\n",
    "    except:\n",
    "        cX = int(IMAGE_W/2)\n",
    "        cY = int(IMAGE_H/2)\n",
    "    \n",
    "    return cX, cY\n"
   ]
  },
  {
   "cell_type": "code",
   "execution_count": 5,
   "id": "a2c7826b",
   "metadata": {},
   "outputs": [],
   "source": [
    "sim_time = 300\n",
    "autopilot = False\n",
    "\n",
    "\n",
    "IMAGE_H, IMAGE_W, _ = myAgent.image.shape\n",
    "src = np.float32([[0, IMAGE_H], [IMAGE_W, IMAGE_H],\n",
    "                  [int(3*IMAGE_W/7), int(IMAGE_H/2)], [int(4*IMAGE_W/7), int(IMAGE_H/2)]])\n",
    "dst = np.float32([[300, IMAGE_H], [500, IMAGE_H], [300, 0], [500, 0]])\n",
    "M = cv2.getPerspectiveTransform(src, dst) # The transformation matrix   \n",
    "\n",
    "kernel = np.ones((5,5),np.uint8)\n",
    "\n",
    "\n",
    "myAgent.control.throttle = 0\n",
    "myAgent.control.brake = 0\n",
    "myAgent.control.steer = 0\n",
    "myAgent.control.hand_brake = 0\n",
    "myAgent.control.reverse = 0\n",
    "\n",
    "myAgent.vehicle.apply_control(myAgent.control)\n",
    "\n",
    "myAgent.vehicle.set_autopilot(autopilot)\n",
    "\n",
    "t = time.time()\n",
    "lap = t\n",
    "while(time.time()-t < sim_time):\n",
    "\n",
    "    if (time.time() - lap > 3):\n",
    "        lap = time.time()\n",
    "        myAgent.find_vehicle()\n",
    "        \n",
    "    road_class = 7\n",
    "    RGB = myAgent.image\n",
    "    sem = np.copy(myAgent.imageS[:,:,2])\n",
    "    sem[sem!=road_class] = 0\n",
    "    sem[sem==road_class] = 255\n",
    "\n",
    "    warped_RGB = cv2.warpPerspective(RGB, M, (IMAGE_W, IMAGE_H)) # Image warping\n",
    "    warped_sem = cv2.warpPerspective(sem, M, (IMAGE_W, IMAGE_H)) # Image warping\n",
    "\n",
    "    # warped_sem = cv2.morphologyEx(warped_sem, cv2.MORPH_CLOSE, kernel)\n",
    "    # warped_sem = cv2.morphologyEx(warped_sem, cv2.MORPH_OPEN, kernel)\n",
    "\n",
    "    warped_sem = undesired_objects(warped_sem)\n",
    "    \n",
    "    y1, y2 = int(3*IMAGE_W/7), int(4*IMAGE_W/7)\n",
    "    x1 = int(IMAGE_H/4)\n",
    "\n",
    "    mask_f = np.zeros_like(sem)\n",
    "    mask_l = np.zeros_like(sem)\n",
    "    mask_r = np.zeros_like(sem)\n",
    "    \n",
    "    mask_f[:, y1:y2] = 1\n",
    "    mask_l[x1:, :y2] = 1\n",
    "    mask_r[x1:, y1:] = 1\n",
    "\n",
    "    path_f = np.multiply(warped_sem, mask_f)\n",
    "    path_l = np.multiply(warped_sem, mask_l)\n",
    "    path_r = np.multiply(warped_sem, mask_r)\n",
    "    \n",
    "    (cX_f, cY_f) = get_centroid(path_f)\n",
    "    (cX_l, cY_l) = get_centroid(path_l)\n",
    "    (cX_r, cY_r) = get_centroid(path_r)\n",
    "      \n",
    "    # put text and highlight the center\n",
    "    cv2.circle(warped_RGB, (cX_f, cY_f), 20, (0, 0, 255), -1)\n",
    "    cv2.circle(warped_RGB, (cX_l, cY_l), 20, (0, 0, 255), -1)\n",
    "    cv2.circle(warped_RGB, (cX_r, cY_r), 20, (0, 0, 255), -1)    \n",
    "\n",
    "    if autopilot == False:\n",
    "        \n",
    "        myAgent.control.throttle = (cY_f + cY_l + cY_r)/(3*IMAGE_H) - 0.2*((IMAGE_W/2-cX_l)/(IMAGE_W))/(cY_f/IMAGE_H) - 0.2*((cX_r-IMAGE_W/2)/(IMAGE_W))/(cY_f/IMAGE_H) \n",
    "        \n",
    "        myAgent.control.steer = (4*(cX_f-IMAGE_W/2)/(IMAGE_W))*(cY_f/IMAGE_H) + 0.2*((cX_l-IMAGE_W/2)/(IMAGE_W))/(cY_f/IMAGE_H) + 0.2*((cX_r-IMAGE_W/2)/(IMAGE_W))/(cY_f/IMAGE_H) \n",
    "        \n",
    "        myAgent.vehicle.apply_control(myAgent.control)\n",
    "    \n",
    "    \n",
    "\n",
    "    sem_3 = cv2.cvtColor(sem, cv2.COLOR_GRAY2BGR)\n",
    "    # warped_sem = cv2.cvtColor(warped_sem, cv2.COLOR_GRAY2BGR)\n",
    "\n",
    "\n",
    "    # plt.figure(figsize=(12,8), dpi= 100, facecolor='w', edgecolor='k')\n",
    "    # plt.imshow(cv2.cvtColor(stack3, cv2.COLOR_BGR2RGB)) # Show results\n",
    "    # plt.show()\n",
    "\n",
    "    cv2.imshow('camera feed', RGB)\n",
    "    cv2.imshow('warped RGB', warped_RGB)\n",
    "    cv2.imshow('Roadmap', warped_sem)\n",
    "    if cv2.waitKey(1) & 0xFF == ord('q'):\n",
    "        break\n",
    "        \n",
    "cv2.destroyAllWindows()\n",
    "        \n",
    "myAgent.vehicle.set_autopilot(False)\n",
    "\n",
    "myAgent.control.throttle = 0\n",
    "myAgent.control.brake = 0\n",
    "myAgent.control.steer = 0\n",
    "myAgent.control.hand_brake = 1\n",
    "myAgent.control.reverse = 0\n",
    "myAgent.vehicle.apply_control(myAgent.control)\n",
    "\n",
    "myAgent.find_vehicle()\n"
   ]
  },
  {
   "cell_type": "code",
   "execution_count": 11,
   "id": "40867d8f",
   "metadata": {},
   "outputs": [],
   "source": [
    "cv2.destroyAllWindows()"
   ]
  },
  {
   "cell_type": "markdown",
   "id": "cc4d7759",
   "metadata": {},
   "source": [
    "### Reverse Gear"
   ]
  },
  {
   "cell_type": "code",
   "execution_count": 9,
   "id": "af4ce6cd",
   "metadata": {},
   "outputs": [],
   "source": [
    "myAgent.control.throttle = 0.5\n",
    "myAgent.control.brake = 0\n",
    "myAgent.control.steer = 0\n",
    "myAgent.control.hand_brake = 0\n",
    "myAgent.control.reverse = 1\n",
    "\n",
    "myAgent.vehicle.apply_control(myAgent.control)\n",
    "\n",
    "\n",
    "t = time.time()\n",
    "while(time.time()-t < 5):\n",
    "    None\n",
    "    \n",
    "myAgent.control.throttle = 0\n",
    "myAgent.control.brake = 0\n",
    "myAgent.control.steer = 0\n",
    "myAgent.control.hand_brake = 1\n",
    "myAgent.control.reverse = 0\n",
    "\n",
    "myAgent.vehicle.apply_control(myAgent.control)"
   ]
  },
  {
   "cell_type": "markdown",
   "id": "aa7b0f93",
   "metadata": {},
   "source": [
    "# Terminate Simulation"
   ]
  },
  {
   "cell_type": "code",
   "execution_count": 6,
   "id": "24426dce",
   "metadata": {},
   "outputs": [
    {
     "name": "stdout",
     "output_type": "stream",
     "text": [
      "destroying actors\n",
      "terminated\n"
     ]
    }
   ],
   "source": [
    "myAgent.terminate()"
   ]
  }
 ],
 "metadata": {
  "kernelspec": {
   "display_name": "Python 3",
   "language": "python",
   "name": "python3"
  },
  "language_info": {
   "codemirror_mode": {
    "name": "ipython",
    "version": 3
   },
   "file_extension": ".py",
   "mimetype": "text/x-python",
   "name": "python",
   "nbconvert_exporter": "python",
   "pygments_lexer": "ipython3",
   "version": "3.7.10"
  }
 },
 "nbformat": 4,
 "nbformat_minor": 5
}
