{
 "cells": [
  {
   "cell_type": "code",
   "execution_count": 1,
   "id": "faad8d1a",
   "metadata": {},
   "outputs": [],
   "source": [
    "import glob\n",
    "import os\n",
    "import sys\n",
    "import random\n",
    "import time\n",
    "import numpy as np\n",
    "\n",
    "try:\n",
    "    sys.path.append(glob.glob('carla-*%d.%d-%s.egg' % (\n",
    "        sys.version_info.major,\n",
    "        sys.version_info.minor,\n",
    "        'win-amd64' if os.name == 'nt' else 'linux-x86_64'))[0])\n",
    "except IndexError:\n",
    "    pass\n",
    "\n",
    "import carla\n",
    "\n",
    "\n",
    "class CarlaAgent:\n",
    "    actor_list = []\n",
    "    client = []\n",
    "    world = []\n",
    "    BP = []\n",
    "    vehicle = []\n",
    "    camera = []\n",
    "    cameraS = []\n",
    "    control = []\n",
    "    image = []\n",
    "    imageS = []\n",
    "\n",
    "    def __init__(self):\n",
    "        # Connect to server\n",
    "        self.client = carla.Client('localhost', 2000)\n",
    "        self.client.set_timeout(4.0)\n",
    "        time.sleep(4.0)\n",
    "        print(\"Establishing Connection to Server\")\n",
    "\n",
    "        # Once we have a client we can retrieve the world that is currently\n",
    "        # running.\n",
    "        self.world = self.client.load_world('Town01')\n",
    "        #self.world = self.client.get_world()\n",
    "\n",
    "\n",
    "        # The world contains the list blueprints that we can use for adding new\n",
    "        # actors into the simulation.\n",
    "        self.BP = self.world.get_blueprint_library()\n",
    "\n",
    "    def spawn_vehicle(self):\n",
    "        # Now let's filter all the blueprints of type 'vehicle' and choose one\n",
    "        # at random.\n",
    "        BP_vehicle = random.choice(self.BP.filter('vehicle'))\n",
    "\n",
    "        # A blueprint contains the list of attributes that define a vehicle's\n",
    "        # instance, we can read them and modify some of them. For instance,\n",
    "        # let's randomize its color.\n",
    "        if BP_vehicle.has_attribute('color'):\n",
    "            color = random.choice(BP_vehicle.get_attribute('color').recommended_values)\n",
    "            BP_vehicle.set_attribute('color', color)\n",
    "\n",
    "        # Now we need to give an initial transform to the vehicle. We choose a\n",
    "        # random transform from the list of recommended spawn points of the map.\n",
    "        transform = random.choice(self.world.get_map().get_spawn_points())\n",
    "\n",
    "        # So let's tell the world to spawn the vehicle.\n",
    "        self.vehicle = self.world.spawn_actor(BP_vehicle, transform)\n",
    "        print(transform)\n",
    "\n",
    "        # It is important to note that the actors we create won't be destroyed\n",
    "        # unless we call their \"destroy\" function. If we fail to call \"destroy\"\n",
    "        # they will stay in the simulation even after we quit the Python script.\n",
    "        # For that reason, we are storing all the actors we create so we can\n",
    "        # destroy them afterwards.\n",
    "        self.actor_list.append(self.vehicle)\n",
    "        print('created %s' % self.vehicle.type_id)\n",
    "\n",
    "    def attach_camera(self):\n",
    "        def camera_callback(image):\n",
    "            array = np.frombuffer(image.raw_data, dtype=np.dtype(\"uint8\"))\n",
    "            array = np.reshape(array, (image.height, image.width, 4))  # RGBA format\n",
    "            array = array[:, :, :3]  # Take only RGB\n",
    "            self.image = array\n",
    "\n",
    "        # Let's add now a \"depth\" camera attached to the vehicle. Note that the\n",
    "        # transform we give here is now relative to the vehicle.\n",
    "        BP_camera = self.BP.find('sensor.camera.rgb')\n",
    "        camera_transform = carla.Transform(carla.Location(x=1.5, z=2.4))\n",
    "        self.camera = self.world.spawn_actor(BP_camera, camera_transform, attach_to=self.vehicle)\n",
    "        self.actor_list.append(self.camera)\n",
    "        print('created %s' % self.camera.type_id)\n",
    "\n",
    "        # attach camera callback function\n",
    "        self.camera.listen(lambda image: camera_callback(image))\n",
    "\n",
    "    def attach_cameraS(self):\n",
    "        def semantic_callback(image):\n",
    "            array = np.frombuffer(image.raw_data, dtype=np.dtype(\"uint8\"))\n",
    "            array = np.reshape(array, (image.height, image.width, 4))  # RGBA format\n",
    "            array = array[:, :, :3]  # Take only RGB\n",
    "            self.imageS = array\n",
    "\n",
    "        # Let's add now a \"depth\" camera attached to the vehicle. Note that the\n",
    "        # transform we give here is now relative to the vehicle.\n",
    "        BP_semantic = self.BP.find('sensor.camera.semantic_segmentation')\n",
    "        camera_transform = carla.Transform(carla.Location(x=1.5, z=2.4))\n",
    "        self.cameraS = self.world.spawn_actor(BP_semantic, camera_transform, attach_to=self.vehicle)\n",
    "        self.actor_list.append(self.cameraS)\n",
    "        print('created %s' % self.cameraS.type_id)\n",
    "\n",
    "        # attach camera callback function\n",
    "        self.cameraS.listen(lambda image: semantic_callback(image))\n",
    "\n",
    "    def autopilot(self, t):\n",
    "        print(\"Starting autopilot for \" + str(t) + \" seconds\")\n",
    "        # Let's put the vehicle to drive around.\n",
    "        self.vehicle.set_autopilot(True)\n",
    "        # Drive around for 30 second and then stop autopilot\n",
    "        time.sleep(t)\n",
    "        self.vehicle.set_autopilot(False)\n",
    "        print(\"Stopping autopilot\")\n",
    "\n",
    "    def attach_controller(self):\n",
    "        self.vehicle.set_autopilot(False)\n",
    "        self.control = carla.VehicleControl()\n",
    "\n",
    "    def terminate(self):\n",
    "        print('destroying actors')\n",
    "        self.camera.destroy()\n",
    "        self.client.apply_batch([carla.command.DestroyActor(x) for x in self.actor_list])\n",
    "        print('terminated')"
   ]
  },
  {
   "cell_type": "code",
   "execution_count": 2,
   "id": "b8022ad7",
   "metadata": {
    "scrolled": false
   },
   "outputs": [
    {
     "name": "stdout",
     "output_type": "stream",
     "text": [
      "Establishing Connection to Server\n"
     ]
    }
   ],
   "source": [
    "myAgent = CarlaAgent()"
   ]
  },
  {
   "cell_type": "markdown",
   "id": "3d504fb9",
   "metadata": {},
   "source": [
    "## Changing the Map"
   ]
  },
  {
   "cell_type": "code",
   "execution_count": 15,
   "id": "aa0b042b",
   "metadata": {},
   "outputs": [
    {
     "name": "stdout",
     "output_type": "stream",
     "text": [
      "['/Game/Carla/Maps/Town06', '/Game/Carla/Maps/Racetrack03', '/Game/Carla/Maps/Town05', '/Game/Carla/Maps/Town05_Opt', '/Game/Carla/Maps/Town03', '/Game/Carla/Maps/Town07', '/Game/Carla/Maps/Town10HD_Opt', '/Game/Carla/Maps/Town01_Opt', '/Game/Carla/Maps/Racetrack04', '/Game/Carla/Maps/Town10HD', '/Game/Carla/Maps/Town04', '/Game/Carla/Maps/Racetrack01', '/Game/Carla/Maps/Town06_Opt', '/Game/Carla/Maps/Racetrack02', '/Game/Carla/Maps/Town07_Opt', '/Game/Carla/Maps/Town04_Opt', '/Game/Carla/Maps/Town03_Opt', '/Game/Carla/Maps/Town02', '/Game/Carla/Maps/Town01', '/Game/Carla/Maps/Town02_Opt']\n"
     ]
    }
   ],
   "source": [
    "print(myAgent.client.get_available_maps())"
   ]
  },
  {
   "cell_type": "code",
   "execution_count": 3,
   "id": "5e431ecc",
   "metadata": {},
   "outputs": [],
   "source": [
    "myAgent.world = myAgent.client.load_world(\"Town04\")"
   ]
  },
  {
   "cell_type": "markdown",
   "id": "addab0ca",
   "metadata": {},
   "source": [
    "## Terminate Simulation"
   ]
  },
  {
   "cell_type": "code",
   "execution_count": 4,
   "id": "9007bf00",
   "metadata": {
    "scrolled": true
   },
   "outputs": [
    {
     "name": "stdout",
     "output_type": "stream",
     "text": [
      "destroying actors\n"
     ]
    },
    {
     "ename": "AttributeError",
     "evalue": "'list' object has no attribute 'destroy'",
     "output_type": "error",
     "traceback": [
      "\u001b[0;31m---------------------------------------------------------------------------\u001b[0m",
      "\u001b[0;31mAttributeError\u001b[0m                            Traceback (most recent call last)",
      "\u001b[0;32m<ipython-input-4-82241731c8e3>\u001b[0m in \u001b[0;36m<module>\u001b[0;34m\u001b[0m\n\u001b[0;32m----> 1\u001b[0;31m \u001b[0mmyAgent\u001b[0m\u001b[0;34m.\u001b[0m\u001b[0mterminate\u001b[0m\u001b[0;34m(\u001b[0m\u001b[0;34m)\u001b[0m\u001b[0;34m\u001b[0m\u001b[0;34m\u001b[0m\u001b[0m\n\u001b[0m",
      "\u001b[0;32m<ipython-input-1-bc91d6368204>\u001b[0m in \u001b[0;36mterminate\u001b[0;34m(self)\u001b[0m\n\u001b[1;32m    125\u001b[0m     \u001b[0;32mdef\u001b[0m \u001b[0mterminate\u001b[0m\u001b[0;34m(\u001b[0m\u001b[0mself\u001b[0m\u001b[0;34m)\u001b[0m\u001b[0;34m:\u001b[0m\u001b[0;34m\u001b[0m\u001b[0;34m\u001b[0m\u001b[0m\n\u001b[1;32m    126\u001b[0m         \u001b[0mprint\u001b[0m\u001b[0;34m(\u001b[0m\u001b[0;34m'destroying actors'\u001b[0m\u001b[0;34m)\u001b[0m\u001b[0;34m\u001b[0m\u001b[0;34m\u001b[0m\u001b[0m\n\u001b[0;32m--> 127\u001b[0;31m         \u001b[0mself\u001b[0m\u001b[0;34m.\u001b[0m\u001b[0mcamera\u001b[0m\u001b[0;34m.\u001b[0m\u001b[0mdestroy\u001b[0m\u001b[0;34m(\u001b[0m\u001b[0;34m)\u001b[0m\u001b[0;34m\u001b[0m\u001b[0;34m\u001b[0m\u001b[0m\n\u001b[0m\u001b[1;32m    128\u001b[0m         \u001b[0mself\u001b[0m\u001b[0;34m.\u001b[0m\u001b[0mclient\u001b[0m\u001b[0;34m.\u001b[0m\u001b[0mapply_batch\u001b[0m\u001b[0;34m(\u001b[0m\u001b[0;34m[\u001b[0m\u001b[0mcarla\u001b[0m\u001b[0;34m.\u001b[0m\u001b[0mcommand\u001b[0m\u001b[0;34m.\u001b[0m\u001b[0mDestroyActor\u001b[0m\u001b[0;34m(\u001b[0m\u001b[0mx\u001b[0m\u001b[0;34m)\u001b[0m \u001b[0;32mfor\u001b[0m \u001b[0mx\u001b[0m \u001b[0;32min\u001b[0m \u001b[0mself\u001b[0m\u001b[0;34m.\u001b[0m\u001b[0mactor_list\u001b[0m\u001b[0;34m]\u001b[0m\u001b[0;34m)\u001b[0m\u001b[0;34m\u001b[0m\u001b[0;34m\u001b[0m\u001b[0m\n\u001b[1;32m    129\u001b[0m         \u001b[0mprint\u001b[0m\u001b[0;34m(\u001b[0m\u001b[0;34m'terminated'\u001b[0m\u001b[0;34m)\u001b[0m\u001b[0;34m\u001b[0m\u001b[0;34m\u001b[0m\u001b[0m\n",
      "\u001b[0;31mAttributeError\u001b[0m: 'list' object has no attribute 'destroy'"
     ]
    }
   ],
   "source": [
    "myAgent.terminate()"
   ]
  },
  {
   "cell_type": "markdown",
   "id": "55ba43c3",
   "metadata": {},
   "source": [
    "# Generating Map\n",
    "\n",
    "https://carla.readthedocs.io/en/latest/tuto_G_openstreetmap/\n",
    "\n",
    "https://www.openstreetmap.org/\n",
    "\n",
    "run this from CARLA_0.9.11/PythonAPI/examples directory\n",
    "\n",
    "https://github.com/carla-simulator/carla/issues/3415"
   ]
  },
  {
   "cell_type": "code",
   "execution_count": 2,
   "id": "7da5a3da",
   "metadata": {},
   "outputs": [],
   "source": [
    "import glob\n",
    "import os\n",
    "import sys\n",
    "import random\n",
    "import time\n",
    "import numpy as np\n",
    "\n",
    "try:\n",
    "    sys.path.append(glob.glob('carla-*%d.%d-%s.egg' % (\n",
    "        sys.version_info.major,\n",
    "        sys.version_info.minor,\n",
    "        'win-amd64' if os.name == 'nt' else 'linux-x86_64'))[0])\n",
    "except IndexError:\n",
    "    pass\n",
    "\n",
    "import carla"
   ]
  },
  {
   "cell_type": "markdown",
   "id": "b1f16e98",
   "metadata": {},
   "source": [
    "## Conversion to OpenDrive Format"
   ]
  },
  {
   "cell_type": "code",
   "execution_count": null,
   "id": "05de4bc9",
   "metadata": {},
   "outputs": [],
   "source": [
    "# Read the .osm data\n",
    "f = open(\"dhaka.osm\", 'r') \n",
    "osm_data = f.read()\n",
    "f.close()\n",
    "print(\"Map read successful\")\n",
    "\n",
    "# Define the desired settings. In this case, default values.\n",
    "settings = carla.Osm2OdrSettings()\n",
    "# Convert to .xodr\n",
    "xodr_data = carla.Osm2Odr.convert(osm_data, settings)\n",
    "print(\"Conversion completepytho\")\n",
    "\n",
    "# save opendrive file\n",
    "f = open(\"dhaka.xodr\", 'w')\n",
    "f.write(xodr_data)\n",
    "f.close()\n",
    "print(\"Map saved as opendrive file\")"
   ]
  },
  {
   "cell_type": "markdown",
   "id": "d162a6f3",
   "metadata": {},
   "source": [
    "## Importing into simulator"
   ]
  },
  {
   "cell_type": "code",
   "execution_count": 4,
   "id": "a3af12b4",
   "metadata": {},
   "outputs": [
    {
     "name": "stdout",
     "output_type": "stream",
     "text": [
      "Establishing Connection to Server\n"
     ]
    }
   ],
   "source": [
    "client = carla.Client('localhost', 2000)\n",
    "client.set_timeout(4.0)\n",
    "time.sleep(4.0)\n",
    "print(\"Establishing Connection to Server\")"
   ]
  },
  {
   "cell_type": "code",
   "execution_count": 7,
   "id": "cc98747e",
   "metadata": {},
   "outputs": [
    {
     "name": "stdout",
     "output_type": "stream",
     "text": [
      "xodr map read successful\n",
      "<class 'str'>\n"
     ]
    }
   ],
   "source": [
    "# Read the .osm data\n",
    "f = open(\"dhaka.xodr\", 'r') \n",
    "xodr_data = f.read()\n",
    "f.close()\n",
    "print(\"xodr map read successful\")\n",
    "\n",
    "print(type(xodr_data))"
   ]
  },
  {
   "cell_type": "code",
   "execution_count": 8,
   "id": "3d33c94f",
   "metadata": {},
   "outputs": [],
   "source": [
    "vertex_distance = 2.0  # in meters\n",
    "max_road_length = 500.0 # in meters\n",
    "wall_height = 0.0      # in meters\n",
    "extra_width = 0.6      # in meters\n",
    "world = client.generate_opendrive_world(\n",
    "    xodr_data, carla.OpendriveGenerationParameters(\n",
    "        vertex_distance=vertex_distance,\n",
    "        max_road_length=max_road_length,\n",
    "        wall_height=wall_height,\n",
    "        additional_width=extra_width,\n",
    "        smooth_junctions=True,\n",
    "        enable_mesh_visibility=True))"
   ]
  }
 ],
 "metadata": {
  "kernelspec": {
   "display_name": "Python 3",
   "language": "python",
   "name": "python3"
  },
  "language_info": {
   "codemirror_mode": {
    "name": "ipython",
    "version": 3
   },
   "file_extension": ".py",
   "mimetype": "text/x-python",
   "name": "python",
   "nbconvert_exporter": "python",
   "pygments_lexer": "ipython3",
   "version": "3.7.10"
  }
 },
 "nbformat": 4,
 "nbformat_minor": 5
}
