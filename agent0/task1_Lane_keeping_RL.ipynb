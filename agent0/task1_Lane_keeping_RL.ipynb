{
 "cells": [
  {
   "cell_type": "markdown",
   "id": "2b0d8606",
   "metadata": {},
   "source": [
    "# Imports"
   ]
  },
  {
   "cell_type": "code",
   "execution_count": 1,
   "id": "e680d4ca",
   "metadata": {},
   "outputs": [],
   "source": [
    "from myAgent import CarlaAgent\n",
    "import random\n",
    "import matplotlib.pyplot as plt\n",
    "import numpy as np\n",
    "import time\n",
    "import glob\n",
    "import os\n",
    "import sys\n",
    "import cv2\n",
    "import math\n",
    "\n",
    "try:\n",
    "    sys.path.append(glob.glob('./carla-*%d.%d-%s.egg' % (\n",
    "        sys.version_info.major,\n",
    "        sys.version_info.minor,\n",
    "        'win-amd64' if os.name == 'nt' else 'linux-x86_64'))[0])\n",
    "except IndexError:\n",
    "    pass\n",
    "\n",
    "import carla"
   ]
  },
  {
   "cell_type": "markdown",
   "id": "9bd65bc8",
   "metadata": {},
   "source": [
    "## Initialize Simulation"
   ]
  },
  {
   "cell_type": "code",
   "execution_count": 3,
   "id": "634c40c1",
   "metadata": {},
   "outputs": [
    {
     "ename": "RuntimeError",
     "evalue": "time-out of 4000ms while waiting for the simulator, make sure the simulator is ready and connected to localhost:2000",
     "output_type": "error",
     "traceback": [
      "\u001b[1;31m---------------------------------------------------------------------------\u001b[0m",
      "\u001b[1;31mRuntimeError\u001b[0m                              Traceback (most recent call last)",
      "\u001b[1;32m<ipython-input-3-398bd05b8285>\u001b[0m in \u001b[0;36m<module>\u001b[1;34m\u001b[0m\n\u001b[0;32m      1\u001b[0m \u001b[1;31m# myAgent = CarlaAgent()\u001b[0m\u001b[1;33m\u001b[0m\u001b[1;33m\u001b[0m\u001b[1;33m\u001b[0m\u001b[0m\n\u001b[0;32m      2\u001b[0m \u001b[1;33m\u001b[0m\u001b[0m\n\u001b[1;32m----> 3\u001b[1;33m \u001b[0mmyAgent\u001b[0m\u001b[1;33m.\u001b[0m\u001b[0mworld\u001b[0m \u001b[1;33m=\u001b[0m \u001b[0mmyAgent\u001b[0m\u001b[1;33m.\u001b[0m\u001b[0mclient\u001b[0m\u001b[1;33m.\u001b[0m\u001b[0mload_world\u001b[0m\u001b[1;33m(\u001b[0m\u001b[1;34m\"Town04\"\u001b[0m\u001b[1;33m)\u001b[0m\u001b[1;33m\u001b[0m\u001b[1;33m\u001b[0m\u001b[0m\n\u001b[0m",
      "\u001b[1;31mRuntimeError\u001b[0m: time-out of 4000ms while waiting for the simulator, make sure the simulator is ready and connected to localhost:2000"
     ]
    }
   ],
   "source": [
    "myAgent = CarlaAgent()\n",
    "\n",
    "myAgent.world = myAgent.client.load_world(\"Town04\")\n",
    "myAgent.map = myAgent.world.get_map()"
   ]
  },
  {
   "cell_type": "code",
   "execution_count": 4,
   "id": "2ece8c2d",
   "metadata": {},
   "outputs": [
    {
     "name": "stdout",
     "output_type": "stream",
     "text": [
      "created vehicle.tesla.model3\n",
      "created sensor.camera.rgb\n",
      "created sensor.camera.semantic_segmentation\n",
      "deployed\n"
     ]
    }
   ],
   "source": [
    "spawn_location = carla.Transform(carla.Location(x=68.331055, y=13.360283, z=11.057558), carla.Rotation(pitch=0.178746, yaw=-179.767502, roll=-0.007507))\n",
    "\n",
    "myAgent.spawn_vehicle(transform=spawn_location)\n",
    "\n",
    "myAgent.attach_camera()\n",
    "myAgent.attach_cameraS()\n",
    "myAgent.attach_controller()\n",
    "\n",
    "print(\"deployed\")\n",
    "myAgent.spectator = myAgent.world.get_spectator()\n",
    "myAgent.find_vehicle()"
   ]
  },
  {
   "cell_type": "markdown",
   "id": "11a44965",
   "metadata": {},
   "source": [
    "## Waypoints"
   ]
  },
  {
   "cell_type": "code",
   "execution_count": 91,
   "id": "a694b322",
   "metadata": {
    "scrolled": false
   },
   "outputs": [
    {
     "name": "stdout",
     "output_type": "stream",
     "text": [
      "['__call__', '__class__', '__delattr__', '__dir__', '__doc__', '__eq__', '__format__', '__func__', '__ge__', '__get__', '__getattribute__', '__gt__', '__hash__', '__init__', '__init_subclass__', '__le__', '__lt__', '__ne__', '__new__', '__reduce__', '__reduce_ex__', '__repr__', '__self__', '__setattr__', '__sizeof__', '__str__', '__subclasshook__']\n"
     ]
    }
   ],
   "source": [
    "myAgent.map = myAgent.world.get_map()\n",
    "waypoints = myAgent.map.generate_waypoints(10)\n",
    "\n",
    "x = []\n",
    "y = []\n",
    "\n",
    "for waypoint in waypoints:\n",
    "    x.append(waypoint.transform.location.x)\n",
    "    y.append(waypoint.transform.location.y)\n",
    "    \n",
    "plt.scatter(x,y)\n",
    "\n",
    "print(dir(waypoints[0]))\n",
    "a = waypoints[100].get_right_lane()\n",
    "print(a)"
   ]
  },
  {
   "cell_type": "markdown",
   "id": "60564f31",
   "metadata": {},
   "source": [
    "## Lane Ground Truth"
   ]
  },
  {
   "cell_type": "code",
   "execution_count": 102,
   "id": "2c495d89",
   "metadata": {},
   "outputs": [
    {
     "name": "stdout",
     "output_type": "stream",
     "text": [
      "(array([[68.23243713],\n",
      "       [ 9.85985279],\n",
      "       [68.20401001],\n",
      "       [16.85979652]]), 3.501802201027567, 3.5018234735225127)\n"
     ]
    }
   ],
   "source": [
    "def lane_GT(myAgent):\n",
    "    my_location = myAgent.vehicle.get_location()\n",
    "    closest_waypoint = myAgent.map.get_waypoint(my_location)\n",
    "    right_lane = closest_waypoint.get_right_lane()\n",
    "    left_lane = closest_waypoint.get_left_lane()\n",
    "    distance_to_right_lane = 0\n",
    "    distance_to_left_lane = 0\n",
    "    array = np.zeros((4, 1))\n",
    "    \n",
    "    if right_lane is not None:\n",
    "        distance_to_right_lane = np.sqrt((my_location.x - right_lane.transform.location.x)**2 + (my_location.y - right_lane.transform.location.y)**2)\n",
    "        array[0] = right_lane.transform.location.x\n",
    "        array[1] = right_lane.transform.location.y\n",
    "    if left_lane is not None:\n",
    "        distance_to_left_lane = np.sqrt((my_location.x - left_lane.transform.location.x)**2 + (my_location.y - left_lane.transform.location.y)**2)\n",
    "        array[2] = left_lane.transform.location.x\n",
    "        array[3] = left_lane.transform.location.y\n",
    "    return array, distance_to_right_lane, distance_to_left_lane\n",
    "\n",
    "print(lane_GT(myAgent))"
   ]
  },
  {
   "cell_type": "markdown",
   "id": "418a57d0",
   "metadata": {},
   "source": [
    "## Traffic light"
   ]
  },
  {
   "cell_type": "code",
   "execution_count": 98,
   "id": "4e6ce5ec",
   "metadata": {},
   "outputs": [
    {
     "name": "stdout",
     "output_type": "stream",
     "text": [
      "Green\n"
     ]
    }
   ],
   "source": [
    "def traffic_light_state(myAgent):\n",
    "    return myAgent.vehicle.get_traffic_light_state()\n",
    "\n",
    "print(traffic_light_state(myAgent))"
   ]
  },
  {
   "cell_type": "markdown",
   "id": "21b5daf6",
   "metadata": {},
   "source": [
    "## Bounding boxes"
   ]
  },
  {
   "cell_type": "code",
   "execution_count": 44,
   "id": "2e3762d8",
   "metadata": {
    "scrolled": false
   },
   "outputs": [
    {
     "name": "stdout",
     "output_type": "stream",
     "text": [
      "BoundingBox(Location(x=-534.104187, y=97.756577, z=0.227508), Extent(x=1.241211, y=1.169299, z=1.472754), Rotation(pitch=10.036157, yaw=139.847183, roll=-20.327358))\n"
     ]
    }
   ],
   "source": [
    "bbs = myAgent.world.get_level_bbs()\n",
    "print(bbs[0])"
   ]
  },
  {
   "cell_type": "markdown",
   "id": "849eec31",
   "metadata": {},
   "source": [
    "## Controller\n"
   ]
  },
  {
   "cell_type": "code",
   "execution_count": 105,
   "id": "7e0954a7",
   "metadata": {},
   "outputs": [],
   "source": [
    "class Controller:\n",
    "    # Velocity controller parameters\n",
    "    target_velocity = 0\n",
    "    kp_vel = 0.08\n",
    "    ki_vel = 0.02\n",
    "    kd_vel = 0.001\n",
    "\n",
    "    vel_error_0 = 0\n",
    "    I_vel_error = 0\n",
    "    D_vel_error = 0\n",
    "\n",
    "    # Lateral controller parameters\n",
    "    kp_lat = 0.08\n",
    "    ki_lat = 0.02\n",
    "    kd_lat = 0.001\n",
    "\n",
    "    deviation_0 = 0\n",
    "    I_deviation = 0\n",
    "    D_deviation = 0\n",
    "\n",
    "    def set_target_velocity(self, velocity):\n",
    "        self.target_velocity = velocity\n",
    "        self.D_vel_error = 0\n",
    "        self.vel_error_0 = 0\n",
    "        self.I_vel_error = 0\n",
    "\n",
    "    def velocity_controller(self, dt, current_velocity):\n",
    "        throttle = 0\n",
    "        brake = 0\n",
    "        if dt == 0:\n",
    "            dt = 1e-3\n",
    "\n",
    "        vel_error = self.target_velocity - current_velocity  # velocity error\n",
    "        self.D_vel_error = (vel_error - self.vel_error_0) / dt  # velocity error difference\n",
    "        self.I_vel_error = self.I_vel_error + vel_error * dt  # velocity error integral over time\n",
    "        self.vel_error_0 = vel_error\n",
    "\n",
    "        throttle_signal = self.kp_vel * vel_error + self.ki_vel * self.I_vel_error + self.kd_vel * self.D_vel_error\n",
    "\n",
    "        if throttle_signal > 1:\n",
    "            throttle = 1\n",
    "        elif throttle_signal > 0:\n",
    "            throttle = throttle_signal\n",
    "        elif throttle_signal > -1:\n",
    "            brake = abs(throttle)\n",
    "        else:\n",
    "            brake = 1\n",
    "\n",
    "        return throttle, brake\n",
    "\n",
    "    def lateral_controller(self, dt, deviation):\n",
    "        if dt == 0:\n",
    "            dt = 1e-3\n",
    "\n",
    "        self.D_deviation = (self.deviation_0 - deviation) / dt\n",
    "        self.I_deviation = self.I_deviation + deviation * dt\n",
    "        self.deviation_0 = deviation\n",
    "\n",
    "        steering = self.kp_lat * deviation + self.ki_lat * self.I_deviation + self.kd_lat * self.D_deviation\n",
    "        steering = max(min(steering, 1), -1)\n",
    "        return steering\n"
   ]
  },
  {
   "cell_type": "markdown",
   "id": "e639101a",
   "metadata": {},
   "source": [
    "## Lane keeping routine"
   ]
  },
  {
   "cell_type": "code",
   "execution_count": 106,
   "id": "83710d29",
   "metadata": {},
   "outputs": [
    {
     "name": "stdout",
     "output_type": "stream",
     "text": [
      "No lines\n",
      "No lines\n",
      "No lines\n",
      "No lines\n",
      "No lines\n",
      "No lines\n",
      "No lines\n",
      "No lines\n",
      "No lines\n",
      "No lines\n",
      "No lines\n",
      "No lines\n",
      "No lines\n",
      "No lines\n",
      "No lines\n",
      "No lines\n",
      "No lines\n"
     ]
    }
   ],
   "source": [
    "sim_time = 200 # in seconds\n",
    "autopilot = True\n",
    "\n",
    "controller = Controller()\n",
    "controller.set_target_velocity(20)\n",
    "\n",
    "speed_history = []\n",
    "throttle_history = []\n",
    "brake_history = []\n",
    "steering_history = []\n",
    "\n",
    "traffic_history = []\n",
    "\n",
    "left_lane_x = []\n",
    "left_lane_y = []\n",
    "left_lane_dist = []\n",
    "right_lane_x = []\n",
    "right_lane_y = []\n",
    "right_lane_dist = []\n",
    "\n",
    "myAgent.control.throttle = 0\n",
    "myAgent.control.brake = 0\n",
    "myAgent.control.steer = 0\n",
    "myAgent.control.hand_brake = 0\n",
    "myAgent.control.reverse = 0\n",
    "\n",
    "myAgent.vehicle.apply_control(myAgent.control)\n",
    "\n",
    "myAgent.vehicle.set_autopilot(autopilot)\n",
    "\n",
    "t0 = time.time()\n",
    "t1 = t0\n",
    "simulation_start_time = t0\n",
    "observer_last_updated = t0 \n",
    "\n",
    "while(t1 - simulation_start_time < sim_time):\n",
    "    t1 = time.time()\n",
    "    dt = t1 - t0 # discrete time step del_t\n",
    "    t0 = t1\n",
    "    \n",
    "    if (t1 - observer_last_updated > 2): # update observer each 2 seconds\n",
    "        observer_last_updated = t1\n",
    "        myAgent.find_vehicle()\n",
    "        \n",
    "        \n",
    "    # Get images and segmentation results    \n",
    "    lane_class = 6\n",
    "    road_class = 7\n",
    "    \n",
    "    RGB_image = np.copy(myAgent.image)\n",
    "    \n",
    "    segmentation_lane = np.copy(myAgent.imageS[:,:,2])\n",
    "    segmentation_lane[segmentation_lane!=lane_class] = 0\n",
    "    segmentation_lane[segmentation_lane==lane_class] = 255\n",
    "    \n",
    "    segmentation_road = np.copy(myAgent.imageS[:,:,2])\n",
    "    segmentation_road[segmentation_road!=road_class] = 0\n",
    "    segmentation_road[segmentation_road==road_class] = 255\n",
    "    \n",
    "    # Get lane and traffic information\n",
    "    \n",
    "    array, dist_right, dist_left = lane_GT(myAgent)\n",
    "    right_lane_x.append(array[0])\n",
    "    right_lane_y.append(array[1])\n",
    "    right_lane_dist.append(dist_right)\n",
    "    left_lane_x.append(array[2])\n",
    "    left_lane_y.append(array[3])\n",
    "    left_lane_dist.append(dist_left)\n",
    "    \n",
    "    traffic_state = traffic_light_state(myAgent)\n",
    "    if (traffic_state == 'Green'):\n",
    "        traffic_history.append(1)\n",
    "    else:\n",
    "        traffic_history.append(0)\n",
    "    \n",
    "    # process segmentation image for road and lanes and find deviation\n",
    "    # RGB_image, lane_deviation = lane_tracker(RGB_image, segmentation_road, segmentation_lane)\n",
    "    \n",
    "    # feed velocity to controller\n",
    "    velocity = myAgent.vehicle.get_velocity()\n",
    "    velocity_kmh = (3.6 * math.sqrt(velocity.x**2 + velocity.y**2 + velocity.z**2))\n",
    "    speed_history.append(velocity_kmh)\n",
    "    \n",
    "    \n",
    "    if autopilot == False:\n",
    "        \n",
    "        myAgent.control.throttle, myAgent.control.brake = controller.velocity_controller(dt, velocity_kmh)\n",
    "        # myAgent.control.steer = controller.lateral_controller(dt, lane_deviation)\n",
    "        myAgent.vehicle.apply_control(myAgent.control)\n",
    "        \n",
    "        throttle_history.append(myAgent.control.throttle)\n",
    "        brake_history.append(myAgent.control.brake)\n",
    "        # steering_history.append(myAgent.control.steer)\n",
    "        \n",
    "        \n",
    "    # plot results\n",
    "    hough = cv2.HoughLinesP(segmentation_lane, 2, np.pi / 180, 100, np.array([]), minLineLength = 100, maxLineGap = 50)\n",
    "    lineslines = cv2.cvtColor(segmentation_lane, cv2.COLOR_GRAY2BGR)\n",
    "    try:\n",
    "        for line in hough:\n",
    "            x1, y1, x2, y2 = line.reshape(4)\n",
    "            lineslines = cv2.line( lineslines, (x1, y1), (x2, y2), (255, 0, 0), 5)\n",
    "    except:\n",
    "        print(\"No lines\")\n",
    "        \n",
    "    cv2.imshow('camera feed', RGB_image)\n",
    "    # cv2.imshow('road segmentation', cv2.cvtColor(segmentation_road, cv2.COLOR_GRAY2BGR))\n",
    "    cv2.imshow('detected lanes', lineslines)\n",
    "    if cv2.waitKey(1) & 0xFF == ord('q'):\n",
    "        break\n",
    "        \n",
    "        \n",
    "cv2.destroyAllWindows()\n",
    "        \n",
    "myAgent.vehicle.set_autopilot(False)\n",
    "myAgent.control.throttle = 0\n",
    "myAgent.control.brake = 0\n",
    "myAgent.control.steer = 0\n",
    "myAgent.control.hand_brake = 1\n",
    "myAgent.control.reverse = 0\n",
    "myAgent.vehicle.apply_control(myAgent.control)\n",
    "myAgent.find_vehicle()\n"
   ]
  },
  {
   "cell_type": "code",
   "execution_count": 108,
   "id": "77a7a2f8",
   "metadata": {},
   "outputs": [
    {
     "data": {
      "text/plain": [
       "<function matplotlib.pyplot.show(close=None, block=None)>"
      ]
     },
     "execution_count": 108,
     "metadata": {},
     "output_type": "execute_result"
    },
    {
     "data": {
      "image/png": "[encoded data removed]",
      "text/plain": [
       "<Figure size 432x288 with 3 Axes>"
      ]
     },
     "metadata": {
      "needs_background": "light"
     },
     "output_type": "display_data"
    }
   ],
   "source": [
    "plt.subplot(131)\n",
    "plt.plot(right_lane_x, right_lane_y, left_lane_x, left_lane_y)\n",
    "plt.subplot(132)\n",
    "plt.plot(right_lane_dist, left_lane_dist)\n",
    "plt.subplot(133)\n",
    "plt.plot(brake_history)\n",
    "plt.show"
   ]
  },
  {
   "cell_type": "code",
   "execution_count": 107,
   "id": "a9dc71ac",
   "metadata": {},
   "outputs": [
    {
     "data": {
      "text/plain": [
       "<function matplotlib.pyplot.show(close=None, block=None)>"
      ]
     },
     "execution_count": 107,
     "metadata": {},
     "output_type": "execute_result"
    },
    {
     "data": {
      "image/png": "[encoded data removed]",
      "text/plain": [
       "<Figure size 432x288 with 3 Axes>"
      ]
     },
     "metadata": {
      "needs_background": "light"
     },
     "output_type": "display_data"
    }
   ],
   "source": [
    "plt.subplot(131)\n",
    "plt.plot(speed_history)\n",
    "plt.subplot(132)\n",
    "plt.plot(throttle_history)\n",
    "plt.subplot(133)\n",
    "plt.plot(brake_history)\n",
    "plt.show"
   ]
  },
  {
   "cell_type": "markdown",
   "id": "c8de8d7e",
   "metadata": {},
   "source": [
    "## Reverse Gear"
   ]
  },
  {
   "cell_type": "code",
   "execution_count": 9,
   "id": "97c9014a",
   "metadata": {},
   "outputs": [],
   "source": [
    "myAgent.control.throttle = 1\n",
    "myAgent.control.brake = 0\n",
    "myAgent.control.steer = 0\n",
    "myAgent.control.hand_brake = 0\n",
    "myAgent.control.reverse = 1\n",
    "\n",
    "myAgent.vehicle.apply_control(myAgent.control)\n",
    "\n",
    "\n",
    "t = time.time()\n",
    "while(time.time()-t < 1):\n",
    "    None\n",
    "    \n",
    "myAgent.control.throttle = 0\n",
    "myAgent.control.brake = 0\n",
    "myAgent.control.steer = 0\n",
    "myAgent.control.hand_brake = 1\n",
    "myAgent.control.reverse = 0\n",
    "\n",
    "myAgent.vehicle.apply_control(myAgent.control)"
   ]
  },
  {
   "cell_type": "markdown",
   "id": "9d9bca4d",
   "metadata": {},
   "source": [
    "## Terminate Simulation"
   ]
  },
  {
   "cell_type": "code",
   "execution_count": 20,
   "id": "0241e3cd",
   "metadata": {
    "scrolled": true
   },
   "outputs": [
    {
     "name": "stdout",
     "output_type": "stream",
     "text": [
      "destroying actors\n",
      "terminated\n"
     ]
    }
   ],
   "source": [
    "myAgent.terminate()"
   ]
  }
 ],
 "metadata": {
  "kernelspec": {
   "display_name": "Python 3",
   "language": "python",
   "name": "python3"
  },
  "language_info": {
   "codemirror_mode": {
    "name": "ipython",
    "version": 3
   },
   "file_extension": ".py",
   "mimetype": "text/x-python",
   "name": "python",
   "nbconvert_exporter": "python",
   "pygments_lexer": "ipython3",
   "version": "3.7.10"
  }
 },
 "nbformat": 4,
 "nbformat_minor": 5
}
